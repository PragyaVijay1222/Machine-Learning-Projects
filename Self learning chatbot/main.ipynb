{
 "cells": [
  {
   "cell_type": "code",
   "execution_count": 1,
   "id": "9a11cf68-e541-44c3-ac97-4aea3d809689",
   "metadata": {},
   "outputs": [],
   "source": [
    "import json\n",
    "from difflib import get_close_matches"
   ]
  },
  {
   "cell_type": "code",
   "execution_count": 2,
   "id": "6f251778-5021-4472-ae5e-fe12c8268a24",
   "metadata": {},
   "outputs": [],
   "source": [
    "def load_knowledge_base(file_path: str) -> dict:\n",
    "    with open(file_path, 'r') as file:\n",
    "        data: dict = json.load(file)\n",
    "    return data"
   ]
  },
  {
   "cell_type": "code",
   "execution_count": 3,
   "id": "709cff9e-18f6-4ebc-9966-2eb7b4918e88",
   "metadata": {},
   "outputs": [],
   "source": [
    "def save_knowledge_base(file_path: str, data:dict):\n",
    "    with open(file_path, 'w') as file:\n",
    "        json.dump(data, file, indent=2)"
   ]
  },
  {
   "cell_type": "code",
   "execution_count": 4,
   "id": "bab78a34-c41b-4a18-aac5-fffd1422efa5",
   "metadata": {},
   "outputs": [],
   "source": [
    "def find_best_match(user_question: str, questions: list[str]) -> str | None:\n",
    "    matches: list = get_close_matches(user_question, questions, n=1, cutoff=0.8)\n",
    "    return matches[0] if matches else None"
   ]
  },
  {
   "cell_type": "code",
   "execution_count": 5,
   "id": "54cc4ff6-ecd8-4577-913d-e78d41b5beba",
   "metadata": {},
   "outputs": [],
   "source": [
    "def get_answer_for_question(question: str, knowledge_base: dict) -> str| None:\n",
    "    for q in knowledge_base[\"questions\"]:\n",
    "        if q[\"question\"] == question:\n",
    "            return q[\"answer\"]"
   ]
  },
  {
   "cell_type": "code",
   "execution_count": 6,
   "id": "5277e0d9-fa96-4684-8f1b-ea9ac10f55c1",
   "metadata": {},
   "outputs": [],
   "source": [
    "def chat_bot():\n",
    "    knowledge_base: dict = load_knowledge_base('knowledge_base.json')\n",
    "    while True:\n",
    "        user_input: str = input('You:')\n",
    "        if user_input.lower()== 'quit':\n",
    "            break\n",
    "        best_match: str|None = find_best_match(user_input, [q[\"question\"] for q in knowledge_base[\"questions\"]] )\n",
    "\n",
    "        if best_match:\n",
    "            answer: str = get_answer_for_question(best_match, knowledge_base)\n",
    "            print(f'Bot: {answer}')\n",
    "        else:\n",
    "            print('Bot: I don\\'t know the answer, can you teach me?')\n",
    "            new_answer: str = input('Type the answer or \"skip\" to skip: ')\n",
    "            if new_answer.lower() != 'skip':\n",
    "                knowledge_base[\"questions\"].append({\"question\": user_input, \"answer\": new_answer})\n",
    "                save_knowledge_base('knowledge_base.json', knowledge_base)\n",
    "                print('Bot: Thank you! I learned something new :)')\n",
    "            "
   ]
  },
  {
   "cell_type": "code",
   "execution_count": 9,
   "id": "3f8274b7-1df4-4d9f-b1db-ef85c0900c43",
   "metadata": {},
   "outputs": [
    {
     "name": "stdin",
     "output_type": "stream",
     "text": [
      "You: Hey\n"
     ]
    },
    {
     "name": "stdout",
     "output_type": "stream",
     "text": [
      "Bot: Hi, How can I help you?\n"
     ]
    },
    {
     "name": "stdin",
     "output_type": "stream",
     "text": [
      "You: Who are you?\n"
     ]
    },
    {
     "name": "stdout",
     "output_type": "stream",
     "text": [
      "Bot: I am your go-to chat bot\n"
     ]
    },
    {
     "name": "stdin",
     "output_type": "stream",
     "text": [
      "You: Do you know my name?\n"
     ]
    },
    {
     "name": "stdout",
     "output_type": "stream",
     "text": [
      "Bot: I don't know the answer, can you teach me?\n"
     ]
    },
    {
     "name": "stdin",
     "output_type": "stream",
     "text": [
      "Type the answer or \"skip\" to skip:  It's Pragya Vijay\n"
     ]
    },
    {
     "name": "stdout",
     "output_type": "stream",
     "text": [
      "Bot: Thank you! I learned something new :)\n"
     ]
    },
    {
     "name": "stdin",
     "output_type": "stream",
     "text": [
      "You: Do you know my today's project?\n"
     ]
    },
    {
     "name": "stdout",
     "output_type": "stream",
     "text": [
      "Bot: You made a chat bot with python today\n"
     ]
    },
    {
     "name": "stdin",
     "output_type": "stream",
     "text": [
      "You: Do you know my name?\n"
     ]
    },
    {
     "name": "stdout",
     "output_type": "stream",
     "text": [
      "Bot: It's Pragya Vijay\n"
     ]
    },
    {
     "name": "stdin",
     "output_type": "stream",
     "text": [
      "You: quit\n"
     ]
    }
   ],
   "source": [
    "if __name__ == '__main__':\n",
    "    chat_bot()"
   ]
  },
  {
   "cell_type": "code",
   "execution_count": null,
   "id": "09c05e18-0605-4d63-9e26-9b8c2e00aa3c",
   "metadata": {},
   "outputs": [],
   "source": []
  }
 ],
 "metadata": {
  "kernelspec": {
   "display_name": "Python 3 (ipykernel)",
   "language": "python",
   "name": "python3"
  },
  "language_info": {
   "codemirror_mode": {
    "name": "ipython",
    "version": 3
   },
   "file_extension": ".py",
   "mimetype": "text/x-python",
   "name": "python",
   "nbconvert_exporter": "python",
   "pygments_lexer": "ipython3",
   "version": "3.11.7"
  }
 },
 "nbformat": 4,
 "nbformat_minor": 5
}
